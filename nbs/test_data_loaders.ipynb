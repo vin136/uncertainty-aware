{
 "cells": [
  {
   "cell_type": "code",
   "execution_count": 2,
   "id": "7ff35c57",
   "metadata": {},
   "outputs": [],
   "source": [
    "import os\n",
    "import sys\n",
    "import torch\n",
    "import numpy as np\n",
    "import torch.nn as nn\n",
    "import torch.backends.cudnn as cudnn\n",
    "import matplotlib.pyplot as plt\n",
    "from torch.nn import functional as F\n",
    "\n",
    "import pytorch_lightning as pl\n",
    "\n",
    "\n",
    "from pathlib import Path\n",
    "import matplotlib.pyplot as plt\n",
    "#import pandas as pd\n",
    "import numpy as np\n",
    "\n"
   ]
  },
  {
   "cell_type": "code",
   "execution_count": 3,
   "id": "b585bf1a",
   "metadata": {},
   "outputs": [],
   "source": [
    "cwd = os.getcwd()\n",
    "module_path = \"/\".join(cwd.split('/')[0:-1])\n",
    "    \n",
    "if module_path in sys.path:\n",
    "    print(\"yes\")\n",
    "    sys.path.remove(module_path)\n",
    "if module_path not in sys.path:\n",
    "    sys.path.append(module_path)\n",
    "\n"
   ]
  },
  {
   "cell_type": "markdown",
   "id": "0ead2b50",
   "metadata": {},
   "source": [
    "# Checking data-loaders"
   ]
  },
  {
   "cell_type": "code",
   "execution_count": 4,
   "id": "2da0a804",
   "metadata": {},
   "outputs": [],
   "source": [
    "from src.dataset.ambiguousMNIST import get_ambiguousMnist_loaders"
   ]
  },
  {
   "cell_type": "code",
   "execution_count": 8,
   "id": "7affae58",
   "metadata": {},
   "outputs": [],
   "source": [
    "data_root = '/'.join(os.getcwd().split('/')[:-1]) + '/data-store'"
   ]
  },
  {
   "cell_type": "markdown",
   "id": "c0ef190d",
   "metadata": {},
   "source": [
    "## Ambiguous MNIST"
   ]
  },
  {
   "cell_type": "code",
   "execution_count": 45,
   "id": "4d9d1e63",
   "metadata": {},
   "outputs": [
    {
     "data": {
      "text/plain": [
       "'/Users/vinay/Projects/uncertainty-estimates/data-store'"
      ]
     },
     "execution_count": 45,
     "metadata": {},
     "output_type": "execute_result"
    }
   ],
   "source": [
    "data_root"
   ]
  },
  {
   "cell_type": "code",
   "execution_count": null,
   "id": "c6b5c69b",
   "metadata": {},
   "outputs": [],
   "source": []
  },
  {
   "cell_type": "code",
   "execution_count": 6,
   "id": "a12aee45",
   "metadata": {},
   "outputs": [],
   "source": [
    "amb_mnist_loader = get_ambiguousMnist_loaders(data_root, False, 1)"
   ]
  },
  {
   "cell_type": "code",
   "execution_count": 19,
   "id": "da77ca61",
   "metadata": {},
   "outputs": [
    {
     "name": "stdout",
     "output_type": "stream",
     "text": [
      "torch.Size([1, 1, 28, 28])\n",
      "tensor([5])\n"
     ]
    },
    {
     "data": {
      "image/png": "[encoded data removed]",
      "text/plain": [
       "<Figure size 432x288 with 1 Axes>"
      ]
     },
     "metadata": {
      "needs_background": "light"
     },
     "output_type": "display_data"
    }
   ],
   "source": [
    "%matplotlib inline\n",
    "sample = None\n",
    "for x,y in amb_mnist_loader:\n",
    "    print(x.shape)\n",
    "    print(y)\n",
    "    sample = x\n",
    "    plt.imshow(sample.squeeze(),cmap = plt.cm.gray)\n",
    "    break"
   ]
  },
  {
   "cell_type": "markdown",
   "id": "9dc4e322",
   "metadata": {},
   "source": [
    "## MNIST"
   ]
  },
  {
   "cell_type": "code",
   "execution_count": 10,
   "id": "3656fedc",
   "metadata": {},
   "outputs": [],
   "source": [
    "from src.dataset.MNIST import get_MNIST_loaders"
   ]
  },
  {
   "cell_type": "code",
   "execution_count": 11,
   "id": "6c49bf53",
   "metadata": {},
   "outputs": [],
   "source": [
    "trn_mnist = get_MNIST_loaders(data_root,True, 1)"
   ]
  },
  {
   "cell_type": "code",
   "execution_count": 12,
   "id": "683bb041",
   "metadata": {},
   "outputs": [
    {
     "name": "stdout",
     "output_type": "stream",
     "text": [
      "torch.Size([1, 1, 28, 28])\n",
      "tensor([7])\n"
     ]
    },
    {
     "data": {
      "image/png": "[encoded data removed]",
      "text/plain": [
       "<Figure size 432x288 with 1 Axes>"
      ]
     },
     "metadata": {
      "needs_background": "light"
     },
     "output_type": "display_data"
    }
   ],
   "source": [
    "%matplotlib inline\n",
    "sample = None\n",
    "for x,y in trn_mnist:\n",
    "    print(x.shape)\n",
    "    print(y)\n",
    "    sample = x\n",
    "    plt.imshow(sample.squeeze(),cmap = plt.cm.gray)\n",
    "    break"
   ]
  },
  {
   "cell_type": "markdown",
   "id": "50d37462",
   "metadata": {},
   "source": [
    "## FashionMNIST"
   ]
  },
  {
   "cell_type": "code",
   "execution_count": 5,
   "id": "e66375bc",
   "metadata": {},
   "outputs": [],
   "source": [
    "from src.dataset.fashionMNIST import get_fashionMNIST_loaders\n"
   ]
  },
  {
   "cell_type": "code",
   "execution_count": 8,
   "id": "f899b375",
   "metadata": {},
   "outputs": [
    {
     "name": "stdout",
     "output_type": "stream",
     "text": [
      "4\n",
      "Downloading http://fashion-mnist.s3-website.eu-central-1.amazonaws.com/train-images-idx3-ubyte.gz\n",
      "Downloading http://fashion-mnist.s3-website.eu-central-1.amazonaws.com/train-images-idx3-ubyte.gz to /Users/vinay/Projects/uncertainty-estimates/data-store/FashionMNIST/raw/train-images-idx3-ubyte.gz\n"
     ]
    },
    {
     "data": {
      "application/vnd.jupyter.widget-view+json": {
       "model_id": "8163e351ebb74f808ac24390553a0510",
       "version_major": 2,
       "version_minor": 0
      },
      "text/plain": [
       "  0%|          | 0/26421880 [00:00<?, ?it/s]"
      ]
     },
     "metadata": {},
     "output_type": "display_data"
    },
    {
     "name": "stdout",
     "output_type": "stream",
     "text": [
      "Extracting /Users/vinay/Projects/uncertainty-estimates/data-store/FashionMNIST/raw/train-images-idx3-ubyte.gz to /Users/vinay/Projects/uncertainty-estimates/data-store/FashionMNIST/raw\n",
      "\n",
      "Downloading http://fashion-mnist.s3-website.eu-central-1.amazonaws.com/train-labels-idx1-ubyte.gz\n",
      "Downloading http://fashion-mnist.s3-website.eu-central-1.amazonaws.com/train-labels-idx1-ubyte.gz to /Users/vinay/Projects/uncertainty-estimates/data-store/FashionMNIST/raw/train-labels-idx1-ubyte.gz\n"
     ]
    },
    {
     "data": {
      "application/vnd.jupyter.widget-view+json": {
       "model_id": "3234f09eaca34eb297cf45569cdd14b9",
       "version_major": 2,
       "version_minor": 0
      },
      "text/plain": [
       "  0%|          | 0/29515 [00:00<?, ?it/s]"
      ]
     },
     "metadata": {},
     "output_type": "display_data"
    },
    {
     "name": "stdout",
     "output_type": "stream",
     "text": [
      "Extracting /Users/vinay/Projects/uncertainty-estimates/data-store/FashionMNIST/raw/train-labels-idx1-ubyte.gz to /Users/vinay/Projects/uncertainty-estimates/data-store/FashionMNIST/raw\n",
      "\n",
      "Downloading http://fashion-mnist.s3-website.eu-central-1.amazonaws.com/t10k-images-idx3-ubyte.gz\n",
      "Downloading http://fashion-mnist.s3-website.eu-central-1.amazonaws.com/t10k-images-idx3-ubyte.gz to /Users/vinay/Projects/uncertainty-estimates/data-store/FashionMNIST/raw/t10k-images-idx3-ubyte.gz\n"
     ]
    },
    {
     "data": {
      "application/vnd.jupyter.widget-view+json": {
       "model_id": "f6dc15e88e77423fad24a5320aaabf4a",
       "version_major": 2,
       "version_minor": 0
      },
      "text/plain": [
       "  0%|          | 0/4422102 [00:00<?, ?it/s]"
      ]
     },
     "metadata": {},
     "output_type": "display_data"
    },
    {
     "name": "stdout",
     "output_type": "stream",
     "text": [
      "Extracting /Users/vinay/Projects/uncertainty-estimates/data-store/FashionMNIST/raw/t10k-images-idx3-ubyte.gz to /Users/vinay/Projects/uncertainty-estimates/data-store/FashionMNIST/raw\n",
      "\n",
      "Downloading http://fashion-mnist.s3-website.eu-central-1.amazonaws.com/t10k-labels-idx1-ubyte.gz\n",
      "Downloading http://fashion-mnist.s3-website.eu-central-1.amazonaws.com/t10k-labels-idx1-ubyte.gz to /Users/vinay/Projects/uncertainty-estimates/data-store/FashionMNIST/raw/t10k-labels-idx1-ubyte.gz\n"
     ]
    },
    {
     "data": {
      "application/vnd.jupyter.widget-view+json": {
       "model_id": "043d6b7b0ce64bcb8b1d21ee3bfcdb27",
       "version_major": 2,
       "version_minor": 0
      },
      "text/plain": [
       "  0%|          | 0/5148 [00:00<?, ?it/s]"
      ]
     },
     "metadata": {},
     "output_type": "display_data"
    },
    {
     "name": "stdout",
     "output_type": "stream",
     "text": [
      "Extracting /Users/vinay/Projects/uncertainty-estimates/data-store/FashionMNIST/raw/t10k-labels-idx1-ubyte.gz to /Users/vinay/Projects/uncertainty-estimates/data-store/FashionMNIST/raw\n",
      "\n"
     ]
    }
   ],
   "source": [
    "trn_fmnist = get_fashionMNIST_loaders(data_root,True, 1)"
   ]
  },
  {
   "cell_type": "code",
   "execution_count": 10,
   "id": "096106cf",
   "metadata": {},
   "outputs": [
    {
     "name": "stderr",
     "output_type": "stream",
     "text": [
      "/Users/vinay/mambaforge/envs/uncertainty-estimates/lib/python3.9/site-packages/torchvision/io/image.py:11: UserWarning: Failed to load image Python extension: \n",
      "  warn(f\"Failed to load image Python extension: {e}\")\n",
      "/Users/vinay/mambaforge/envs/uncertainty-estimates/lib/python3.9/site-packages/torchvision/io/image.py:11: UserWarning: Failed to load image Python extension: \n",
      "  warn(f\"Failed to load image Python extension: {e}\")\n",
      "/Users/vinay/mambaforge/envs/uncertainty-estimates/lib/python3.9/site-packages/torchvision/io/image.py:11: UserWarning: Failed to load image Python extension: \n",
      "  warn(f\"Failed to load image Python extension: {e}\")\n",
      "/Users/vinay/mambaforge/envs/uncertainty-estimates/lib/python3.9/site-packages/torchvision/io/image.py:11: UserWarning: Failed to load image Python extension: \n",
      "  warn(f\"Failed to load image Python extension: {e}\")\n"
     ]
    },
    {
     "name": "stdout",
     "output_type": "stream",
     "text": [
      "torch.Size([1, 1, 28, 28])\n",
      "tensor([0])\n"
     ]
    },
    {
     "data": {
      "image/png": "[encoded data removed]",
      "text/plain": [
       "<Figure size 432x288 with 1 Axes>"
      ]
     },
     "metadata": {
      "needs_background": "light"
     },
     "output_type": "display_data"
    }
   ],
   "source": [
    "%matplotlib inline\n",
    "sample = None\n",
    "for x,y in trn_fmnist:\n",
    "    print(x.shape)\n",
    "    print(y)\n",
    "    sample = x\n",
    "    plt.imshow(sample.squeeze(),cmap = plt.cm.gray)\n",
    "    break"
   ]
  },
  {
   "cell_type": "markdown",
   "id": "be85989a",
   "metadata": {},
   "source": [
    "DATA-LOADERS WORKING FINE"
   ]
  },
  {
   "cell_type": "markdown",
   "id": "63de8af0",
   "metadata": {},
   "source": [
    "# Checking models"
   ]
  },
  {
   "cell_type": "code",
   "execution_count": 15,
   "id": "c62d3f67",
   "metadata": {},
   "outputs": [],
   "source": [
    "from src.dataset.loaders import get_loaders"
   ]
  },
  {
   "cell_type": "code",
   "execution_count": 16,
   "id": "03f444a2",
   "metadata": {},
   "outputs": [
    {
     "name": "stdout",
     "output_type": "stream",
     "text": [
      "num_workers:4\n"
     ]
    }
   ],
   "source": [
    "trn_ldr = get_loaders(data_root,'train',10,data_type='mnist')"
   ]
  },
  {
   "cell_type": "code",
   "execution_count": 18,
   "id": "39aae137",
   "metadata": {},
   "outputs": [
    {
     "name": "stdout",
     "output_type": "stream",
     "text": [
      "num_workers:4\n"
     ]
    }
   ],
   "source": [
    "vld_ldr = get_loaders(data_root,'valid',10,data_type='mnist')"
   ]
  },
  {
   "cell_type": "code",
   "execution_count": 39,
   "id": "880187cd",
   "metadata": {},
   "outputs": [],
   "source": [
    "from src.models import vgg16,resnet18"
   ]
  },
  {
   "cell_type": "code",
   "execution_count": 23,
   "id": "2cfaad73",
   "metadata": {},
   "outputs": [
    {
     "name": "stderr",
     "output_type": "stream",
     "text": [
      "/Users/vinay/mambaforge/envs/uncertainty-estimates/lib/python3.9/site-packages/torchvision/io/image.py:11: UserWarning: Failed to load image Python extension: \n",
      "  warn(f\"Failed to load image Python extension: {e}\")\n",
      "/Users/vinay/mambaforge/envs/uncertainty-estimates/lib/python3.9/site-packages/torchvision/io/image.py:11: UserWarning: Failed to load image Python extension: \n",
      "  warn(f\"Failed to load image Python extension: {e}\")\n",
      "/Users/vinay/mambaforge/envs/uncertainty-estimates/lib/python3.9/site-packages/torchvision/io/image.py:11: UserWarning: Failed to load image Python extension: \n",
      "  warn(f\"Failed to load image Python extension: {e}\")\n",
      "/Users/vinay/mambaforge/envs/uncertainty-estimates/lib/python3.9/site-packages/torchvision/io/image.py:11: UserWarning: Failed to load image Python extension: \n",
      "  warn(f\"Failed to load image Python extension: {e}\")\n"
     ]
    }
   ],
   "source": [
    "sample_x,sample_y = None,None\n",
    "for xb,yb in trn_ldr:\n",
    "    sample_x = xb\n",
    "    sample_y = yb\n",
    "    break\n",
    "    "
   ]
  },
  {
   "cell_type": "code",
   "execution_count": 24,
   "id": "fa179a2e",
   "metadata": {},
   "outputs": [
    {
     "data": {
      "text/plain": [
       "torch.Size([10, 1, 28, 28])"
      ]
     },
     "execution_count": 24,
     "metadata": {},
     "output_type": "execute_result"
    }
   ],
   "source": [
    "sample_x.shape"
   ]
  },
  {
   "cell_type": "code",
   "execution_count": 32,
   "id": "406054ae",
   "metadata": {},
   "outputs": [],
   "source": [
    "vgg16_model = vgg16(spectral_normalization = False,\n",
    "                    mod = False,\n",
    "                    mnist = True)"
   ]
  },
  {
   "cell_type": "code",
   "execution_count": 33,
   "id": "90c32c63",
   "metadata": {},
   "outputs": [],
   "source": [
    "vgg_out = vgg16_model(sample_x)"
   ]
  },
  {
   "cell_type": "code",
   "execution_count": 35,
   "id": "4a88014d",
   "metadata": {},
   "outputs": [
    {
     "data": {
      "text/plain": [
       "torch.Size([10, 10])"
      ]
     },
     "execution_count": 35,
     "metadata": {},
     "output_type": "execute_result"
    }
   ],
   "source": [
    "vgg_out.shape"
   ]
  },
  {
   "cell_type": "code",
   "execution_count": 42,
   "id": "aedaddeb",
   "metadata": {},
   "outputs": [],
   "source": [
    "resnet_model = resnet18(spectral_normalization = False,\n",
    "                    mod = False,\n",
    "                    mnist = True)"
   ]
  },
  {
   "cell_type": "code",
   "execution_count": 43,
   "id": "6ddfd095",
   "metadata": {},
   "outputs": [],
   "source": [
    "resnet_out= resnet_model(sample_x)"
   ]
  },
  {
   "cell_type": "code",
   "execution_count": null,
   "id": "3579f71d",
   "metadata": {},
   "outputs": [],
   "source": [
    "# We will study the effect of resnet"
   ]
  },
  {
   "cell_type": "code",
   "execution_count": 44,
   "id": "88db7916",
   "metadata": {},
   "outputs": [
    {
     "data": {
      "text/plain": [
       "tensor([0, 0, 1, 7, 8, 7, 1, 1, 3, 4])"
      ]
     },
     "execution_count": 44,
     "metadata": {},
     "output_type": "execute_result"
    }
   ],
   "source": [
    "sample_y"
   ]
  },
  {
   "cell_type": "code",
   "execution_count": 46,
   "id": "774c2ef0",
   "metadata": {},
   "outputs": [],
   "source": [
    "import pandas as pd"
   ]
  },
  {
   "cell_type": "code",
   "execution_count": 47,
   "id": "bcfac7f4",
   "metadata": {},
   "outputs": [
    {
     "name": "stdout",
     "output_type": "stream",
     "text": [
      "/Users/vinay/Projects/uncertainty-estimates/nbs\r\n"
     ]
    }
   ],
   "source": [
    "!pwd"
   ]
  },
  {
   "cell_type": "code",
   "execution_count": 48,
   "id": "a0886717",
   "metadata": {},
   "outputs": [],
   "source": [
    "trani_csv = pd.read_csv('/Users/vinay/Projects/uncertainty-estimates/src/outputs/2022-01-14/14-21-52/csv_logs/0/version_0/metrics.csv')"
   ]
  },
  {
   "cell_type": "code",
   "execution_count": 49,
   "id": "dd01d523",
   "metadata": {},
   "outputs": [
    {
     "data": {
      "text/html": [
       "<div>\n",
       "<style scoped>\n",
       "    .dataframe tbody tr th:only-of-type {\n",
       "        vertical-align: middle;\n",
       "    }\n",
       "\n",
       "    .dataframe tbody tr th {\n",
       "        vertical-align: top;\n",
       "    }\n",
       "\n",
       "    .dataframe thead th {\n",
       "        text-align: right;\n",
       "    }\n",
       "</style>\n",
       "<table border=\"1\" class=\"dataframe\">\n",
       "  <thead>\n",
       "    <tr style=\"text-align: right;\">\n",
       "      <th></th>\n",
       "      <th>train_loss</th>\n",
       "      <th>epoch</th>\n",
       "      <th>step</th>\n",
       "      <th>val_acc</th>\n",
       "      <th>train_acc</th>\n",
       "    </tr>\n",
       "  </thead>\n",
       "  <tbody>\n",
       "    <tr>\n",
       "      <th>0</th>\n",
       "      <td>0.041661</td>\n",
       "      <td>0</td>\n",
       "      <td>99</td>\n",
       "      <td>NaN</td>\n",
       "      <td>NaN</td>\n",
       "    </tr>\n",
       "    <tr>\n",
       "      <th>1</th>\n",
       "      <td>0.049320</td>\n",
       "      <td>0</td>\n",
       "      <td>199</td>\n",
       "      <td>NaN</td>\n",
       "      <td>NaN</td>\n",
       "    </tr>\n",
       "    <tr>\n",
       "      <th>2</th>\n",
       "      <td>NaN</td>\n",
       "      <td>0</td>\n",
       "      <td>224</td>\n",
       "      <td>0.983933</td>\n",
       "      <td>NaN</td>\n",
       "    </tr>\n",
       "    <tr>\n",
       "      <th>3</th>\n",
       "      <td>NaN</td>\n",
       "      <td>0</td>\n",
       "      <td>224</td>\n",
       "      <td>NaN</td>\n",
       "      <td>0.965733</td>\n",
       "    </tr>\n",
       "    <tr>\n",
       "      <th>4</th>\n",
       "      <td>0.039360</td>\n",
       "      <td>1</td>\n",
       "      <td>299</td>\n",
       "      <td>NaN</td>\n",
       "      <td>NaN</td>\n",
       "    </tr>\n",
       "    <tr>\n",
       "      <th>5</th>\n",
       "      <td>0.024270</td>\n",
       "      <td>1</td>\n",
       "      <td>399</td>\n",
       "      <td>NaN</td>\n",
       "      <td>NaN</td>\n",
       "    </tr>\n",
       "    <tr>\n",
       "      <th>6</th>\n",
       "      <td>NaN</td>\n",
       "      <td>1</td>\n",
       "      <td>449</td>\n",
       "      <td>0.989600</td>\n",
       "      <td>NaN</td>\n",
       "    </tr>\n",
       "    <tr>\n",
       "      <th>7</th>\n",
       "      <td>NaN</td>\n",
       "      <td>1</td>\n",
       "      <td>449</td>\n",
       "      <td>NaN</td>\n",
       "      <td>0.989889</td>\n",
       "    </tr>\n",
       "  </tbody>\n",
       "</table>\n",
       "</div>"
      ],
      "text/plain": [
       "   train_loss  epoch  step   val_acc  train_acc\n",
       "0    0.041661      0    99       NaN        NaN\n",
       "1    0.049320      0   199       NaN        NaN\n",
       "2         NaN      0   224  0.983933        NaN\n",
       "3         NaN      0   224       NaN   0.965733\n",
       "4    0.039360      1   299       NaN        NaN\n",
       "5    0.024270      1   399       NaN        NaN\n",
       "6         NaN      1   449  0.989600        NaN\n",
       "7         NaN      1   449       NaN   0.989889"
      ]
     },
     "execution_count": 49,
     "metadata": {},
     "output_type": "execute_result"
    }
   ],
   "source": [
    "trani_csv"
   ]
  },
  {
   "cell_type": "code",
   "execution_count": null,
   "id": "3c24f47d",
   "metadata": {},
   "outputs": [],
   "source": []
  }
 ],
 "metadata": {
  "kernelspec": {
   "display_name": "Python 3 (ipykernel)",
   "language": "python",
   "name": "python3"
  },
  "language_info": {
   "codemirror_mode": {
    "name": "ipython",
    "version": 3
   },
   "file_extension": ".py",
   "mimetype": "text/x-python",
   "name": "python",
   "nbconvert_exporter": "python",
   "pygments_lexer": "ipython3",
   "version": "3.9.9"
  }
 },
 "nbformat": 4,
 "nbformat_minor": 5
}
