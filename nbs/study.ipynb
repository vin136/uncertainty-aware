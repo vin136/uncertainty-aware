{
 "cells": [
  {
   "cell_type": "code",
   "execution_count": 1,
   "id": "e32d725f",
   "metadata": {},
   "outputs": [],
   "source": [
    "artifacts_dir = '/Users/vinay/Projects/uncertainty-estimates/src/artifacts/'\n",
    "csv_logs = artifacts_dir+'csvlogs/'\n",
    "\n",
    "sn = 'mnist_with_sn_1/'\n",
    "wo_sn = 'mnist_without_sn_1/'\n",
    "\n",
    "wosn_ckpt = artifacts_dir+'epoch=9-val_loss=0.00.ckpt'\n",
    "sn_ckpt = artifacts_dir+'epoch=7-val_loss=0.00.ckpt'\n",
    "\n",
    "#to load models\n",
    "sn_params = {\n",
    "    'spectral_normalization': True,\n",
    "    'mod': False,\n",
    "    'mnist': True,\n",
    "    'temp': 1,\n",
    "    'num_classes': 10\n",
    "}\n",
    "params = {\n",
    "    'spectral_normalization': False,\n",
    "    'mod': False,\n",
    "    'mnist': True,\n",
    "    'temp': 1,\n",
    "    'num_classes': 10\n",
    "}"
   ]
  },
  {
   "cell_type": "code",
   "execution_count": 2,
   "id": "772b1c92",
   "metadata": {},
   "outputs": [],
   "source": [
    "import pandas as pd\n",
    "metrics_sn = pd.read_csv(csv_logs+sn+'metrics.csv')\n",
    "metrics = pd.read_csv(csv_logs+wo_sn+'metrics.csv')"
   ]
  },
  {
   "cell_type": "code",
   "execution_count": 3,
   "id": "ca8d47aa",
   "metadata": {},
   "outputs": [
    {
     "data": {
      "text/html": [
       "<div>\n",
       "<style scoped>\n",
       "    .dataframe tbody tr th:only-of-type {\n",
       "        vertical-align: middle;\n",
       "    }\n",
       "\n",
       "    .dataframe tbody tr th {\n",
       "        vertical-align: top;\n",
       "    }\n",
       "\n",
       "    .dataframe thead th {\n",
       "        text-align: right;\n",
       "    }\n",
       "</style>\n",
       "<table border=\"1\" class=\"dataframe\">\n",
       "  <thead>\n",
       "    <tr style=\"text-align: right;\">\n",
       "      <th></th>\n",
       "      <th>train_loss</th>\n",
       "      <th>epoch</th>\n",
       "      <th>step</th>\n",
       "      <th>val_acc</th>\n",
       "      <th>train_acc</th>\n",
       "    </tr>\n",
       "  </thead>\n",
       "  <tbody>\n",
       "    <tr>\n",
       "      <th>1814</th>\n",
       "      <td>NaN</td>\n",
       "      <td>7</td>\n",
       "      <td>1799</td>\n",
       "      <td>0.996</td>\n",
       "      <td>NaN</td>\n",
       "    </tr>\n",
       "  </tbody>\n",
       "</table>\n",
       "</div>"
      ],
      "text/plain": [
       "      train_loss  epoch  step  val_acc  train_acc\n",
       "1814         NaN      7  1799    0.996        NaN"
      ]
     },
     "execution_count": 3,
     "metadata": {},
     "output_type": "execute_result"
    }
   ],
   "source": [
    "metrics_sn[metrics_sn['val_acc']==metrics_sn['val_acc'].max()]"
   ]
  },
  {
   "cell_type": "code",
   "execution_count": 4,
   "id": "201de89f",
   "metadata": {},
   "outputs": [
    {
     "data": {
      "text/html": [
       "<div>\n",
       "<style scoped>\n",
       "    .dataframe tbody tr th:only-of-type {\n",
       "        vertical-align: middle;\n",
       "    }\n",
       "\n",
       "    .dataframe tbody tr th {\n",
       "        vertical-align: top;\n",
       "    }\n",
       "\n",
       "    .dataframe thead th {\n",
       "        text-align: right;\n",
       "    }\n",
       "</style>\n",
       "<table border=\"1\" class=\"dataframe\">\n",
       "  <thead>\n",
       "    <tr style=\"text-align: right;\">\n",
       "      <th></th>\n",
       "      <th>train_loss</th>\n",
       "      <th>epoch</th>\n",
       "      <th>step</th>\n",
       "      <th>val_acc</th>\n",
       "      <th>train_acc</th>\n",
       "    </tr>\n",
       "  </thead>\n",
       "  <tbody>\n",
       "    <tr>\n",
       "      <th>2268</th>\n",
       "      <td>NaN</td>\n",
       "      <td>9</td>\n",
       "      <td>2249</td>\n",
       "      <td>0.9974</td>\n",
       "      <td>NaN</td>\n",
       "    </tr>\n",
       "  </tbody>\n",
       "</table>\n",
       "</div>"
      ],
      "text/plain": [
       "      train_loss  epoch  step  val_acc  train_acc\n",
       "2268         NaN      9  2249   0.9974        NaN"
      ]
     },
     "execution_count": 4,
     "metadata": {},
     "output_type": "execute_result"
    }
   ],
   "source": [
    "metrics[metrics['val_acc']==metrics['val_acc'].max()]"
   ]
  },
  {
   "cell_type": "code",
   "execution_count": 5,
   "id": "609db12a",
   "metadata": {},
   "outputs": [],
   "source": [
    "# a hack to make notebook work without local package install\n",
    "import os\n",
    "import sys\n",
    "cwd = os.getcwd()\n",
    "module_path = \"/\".join(cwd.split('/')[0:-1])\n",
    "    \n",
    "if module_path in sys.path:\n",
    "    print(\"yes\")\n",
    "    sys.path.remove(module_path)\n",
    "if module_path not in sys.path:\n",
    "    sys.path.append(module_path)\n",
    "\n",
    "\n"
   ]
  },
  {
   "cell_type": "markdown",
   "id": "c627feb7",
   "metadata": {},
   "source": [
    "Very similar final accuracies."
   ]
  },
  {
   "cell_type": "code",
   "execution_count": 7,
   "id": "d148b83f",
   "metadata": {},
   "outputs": [],
   "source": [
    "\n",
    "#loading plane resnet18 model\n",
    "\n",
    "from src.models import *\n",
    "from src.run import Model"
   ]
  },
  {
   "cell_type": "code",
   "execution_count": 8,
   "id": "44a00b0b",
   "metadata": {},
   "outputs": [],
   "source": [
    "model = resnet18(**params)"
   ]
  },
  {
   "cell_type": "code",
   "execution_count": null,
   "id": "98a1f26d",
   "metadata": {},
   "outputs": [],
   "source": []
  },
  {
   "cell_type": "code",
   "execution_count": 9,
   "id": "81c8d41c",
   "metadata": {},
   "outputs": [],
   "source": [
    "import pytorch_lightning as pl\n",
    "from pytorch_lightning import loggers as pl_loggers\n",
    "from pytorch_lightning.callbacks import ModelCheckpoint\n",
    "class LitModel(pl.LightningModule):\n",
    "    def __init__(self,model):\n",
    "        super().__init__()\n",
    "        #self.save_hyperparameters(hparams)\n",
    "        self.model = model\n",
    "\n",
    "    def forward(self,x):\n",
    "        x = self.model(x)"
   ]
  },
  {
   "cell_type": "code",
   "execution_count": 10,
   "id": "b06438cd",
   "metadata": {},
   "outputs": [
    {
     "data": {
      "text/plain": [
       "<All keys matched successfully>"
      ]
     },
     "execution_count": 10,
     "metadata": {},
     "output_type": "execute_result"
    }
   ],
   "source": [
    "ckpt = torch.load(wosn_ckpt)\n",
    "eval_model = LitModel(model)\n",
    "eval_model.load_state_dict(ckpt['state_dict'])"
   ]
  },
  {
   "cell_type": "code",
   "execution_count": 56,
   "id": "f820aa0f",
   "metadata": {},
   "outputs": [
    {
     "name": "stdout",
     "output_type": "stream",
     "text": [
      "num_workers:4\n",
      "num_workers:4\n",
      "num_workers:4\n"
     ]
    }
   ],
   "source": [
    "#get data-loaders\n",
    "data_root = '/'.join(os.getcwd().split('/')[:-1]) + '/data-store'\n",
    "from src.dataset.loaders import get_loaders\n",
    "\n",
    "ambmnist = get_loaders(data_root,'train',200,data_type='ambiguousmnist')\n",
    "fmnist = get_loaders(data_root,'train',200,data_type='fmnist')\n",
    "mnist_test = get_loaders(data_root,'test',100,data_type='mnist')"
   ]
  },
  {
   "cell_type": "code",
   "execution_count": 45,
   "id": "a373e183",
   "metadata": {},
   "outputs": [
    {
     "name": "stderr",
     "output_type": "stream",
     "text": [
      "/Users/vinay/mambaforge/envs/uncertainty-estimates/lib/python3.9/site-packages/torchvision/io/image.py:11: UserWarning: Failed to load image Python extension: \n",
      "  warn(f\"Failed to load image Python extension: {e}\")\n",
      "/Users/vinay/mambaforge/envs/uncertainty-estimates/lib/python3.9/site-packages/torchvision/io/image.py:11: UserWarning: Failed to load image Python extension: \n",
      "  warn(f\"Failed to load image Python extension: {e}\")\n",
      "/Users/vinay/mambaforge/envs/uncertainty-estimates/lib/python3.9/site-packages/torchvision/io/image.py:11: UserWarning: Failed to load image Python extension: \n",
      "  warn(f\"Failed to load image Python extension: {e}\")\n"
     ]
    },
    {
     "name": "stdout",
     "output_type": "stream",
     "text": [
      "torch.Size([1, 28, 28])\n",
      "tensor([7, 7, 0, 9, 6, 6, 1, 0, 4, 3, 2, 9, 3, 7, 4, 4, 2, 6, 9, 2, 1, 9, 0, 4,\n",
      "        2, 2, 4, 1, 1, 0, 0, 1, 0, 2, 5, 1, 1, 8, 7, 4, 8, 0, 2, 4, 1, 4, 8, 2,\n",
      "        1, 3, 7, 3, 7, 3, 8, 6, 8, 6, 0, 8, 5, 0, 4, 2, 3, 5, 7, 0, 8, 1, 6, 3,\n",
      "        1, 1, 0, 1, 3, 7, 6, 0, 3, 7, 3, 5, 7, 5, 2, 0, 6, 0, 1, 6, 8, 0, 0, 4,\n",
      "        6, 3, 9, 3, 1, 5, 9, 3, 1, 1, 3, 1, 9, 3, 4, 4, 8, 4, 0, 2, 4, 4, 0, 8,\n",
      "        8, 1, 3, 4, 5, 3, 4, 0, 0, 0, 6, 3, 8, 9, 6, 4, 1, 4, 7, 3, 0, 5, 9, 0,\n",
      "        3, 9, 3, 3, 2, 3, 4, 0, 0, 7, 3, 0, 8, 5, 3, 6, 2, 5, 1, 9, 1, 5, 9, 4,\n",
      "        9, 1, 5, 5, 9, 2, 5, 2, 4, 0, 0, 1, 7, 3, 5, 6, 3, 1, 8, 4, 0, 8, 9, 5,\n",
      "        1, 5, 4, 2, 9, 9, 6, 3])\n"
     ]
    },
    {
     "name": "stderr",
     "output_type": "stream",
     "text": [
      "/Users/vinay/mambaforge/envs/uncertainty-estimates/lib/python3.9/site-packages/torchvision/io/image.py:11: UserWarning: Failed to load image Python extension: \n",
      "  warn(f\"Failed to load image Python extension: {e}\")\n"
     ]
    }
   ],
   "source": [
    "import matplotlib.pyplot as plt\n",
    "%matplotlib inline\n",
    "sample = None\n",
    "for x,y in fmnist:\n",
    "    print(x[0].shape)\n",
    "    print(y)\n",
    "    sample = x\n",
    "    #plt.imshow(sample.squeeze(),cmap = plt.cm.gray)\n",
    "    break"
   ]
  },
  {
   "cell_type": "code",
   "execution_count": 35,
   "id": "b823e3dc",
   "metadata": {},
   "outputs": [],
   "source": [
    "from src.utils.gmm_utils import get_embeddings, gmm_fit, gmm_evaluate\n",
    "from src.utils.metrics import *\n",
    "from tqdm import tqdm"
   ]
  },
  {
   "cell_type": "code",
   "execution_count": 50,
   "id": "2a9e8782",
   "metadata": {},
   "outputs": [],
   "source": [
    "def get_logits (model, data_loader):\n",
    "    logits = []\n",
    "    model.eval()\n",
    "    with torch.no_grad():\n",
    "        for (data, label) in tqdm(data_loader):\n",
    "            data = data\n",
    "            label = label\n",
    "\n",
    "            output = model(data)\n",
    "            logits.append(output)\n",
    "        \n",
    "    logits = torch.cat(logits, dim=0)\n",
    "    return logits\n",
    "\n",
    "\n",
    "def train_gmm(model, num_dim, train_loader, device):\n",
    "    embeddings, labels = get_embeddings(model,\n",
    "                                        train_loader,\n",
    "                                        num_dim,\n",
    "                                        dtype=torch.double,\n",
    "                                        device=device,\n",
    "                                        storage_device=device)\n",
    "    gaussians_model, jitter_eps = gmm_fit(embeddings=embeddings,\n",
    "                                          labels=labels,\n",
    "                                          num_classes=10)\n",
    "    return gaussians_model\n",
    "\n",
    "\n",
    "def get_gmm_logits(model, gmm_model, data_loader, device):\n",
    "    gmm_logits, gmm_labels = gmm_evaluate(model,\n",
    "                                          gmm_model,\n",
    "                                          data_loader,\n",
    "                                          device=device,\n",
    "                                          num_classes=10,\n",
    "                                          storage_device=device)\n",
    "    return gmm_logits"
   ]
  },
  {
   "cell_type": "code",
   "execution_count": 51,
   "id": "6582c571",
   "metadata": {},
   "outputs": [
    {
     "name": "stderr",
     "output_type": "stream",
     "text": [
      "100%|█████████████████████████████████████████| 300/300 [02:37<00:00,  1.91it/s]\n"
     ]
    }
   ],
   "source": [
    "resnet18_wosn_ambimnist_entropies = entropy(get_logits(eval_model.model,ambmnist))"
   ]
  },
  {
   "cell_type": "code",
   "execution_count": 54,
   "id": "bad03007",
   "metadata": {},
   "outputs": [
    {
     "name": "stderr",
     "output_type": "stream",
     "text": [
      "  0%|                                                   | 0/225 [00:00<?, ?it/s]/Users/vinay/mambaforge/envs/uncertainty-estimates/lib/python3.9/site-packages/torchvision/io/image.py:11: UserWarning: Failed to load image Python extension: \n",
      "  warn(f\"Failed to load image Python extension: {e}\")\n",
      "/Users/vinay/mambaforge/envs/uncertainty-estimates/lib/python3.9/site-packages/torchvision/io/image.py:11: UserWarning: Failed to load image Python extension: \n",
      "  warn(f\"Failed to load image Python extension: {e}\")\n",
      "/Users/vinay/mambaforge/envs/uncertainty-estimates/lib/python3.9/site-packages/torchvision/io/image.py:11: UserWarning: Failed to load image Python extension: \n",
      "  warn(f\"Failed to load image Python extension: {e}\")\n",
      "/Users/vinay/mambaforge/envs/uncertainty-estimates/lib/python3.9/site-packages/torchvision/io/image.py:11: UserWarning: Failed to load image Python extension: \n",
      "  warn(f\"Failed to load image Python extension: {e}\")\n",
      "100%|█████████████████████████████████████████| 225/225 [01:58<00:00,  1.89it/s]\n"
     ]
    }
   ],
   "source": [
    "resnet18_wosn_fmnist_entropies = entropy(get_logits(eval_model.model,fmnist))"
   ]
  },
  {
   "cell_type": "code",
   "execution_count": null,
   "id": "36b82786",
   "metadata": {},
   "outputs": [],
   "source": []
  },
  {
   "cell_type": "code",
   "execution_count": 57,
   "id": "d48ecc92",
   "metadata": {},
   "outputs": [
    {
     "name": "stderr",
     "output_type": "stream",
     "text": [
      "  0%|                                                   | 0/100 [00:00<?, ?it/s]/Users/vinay/mambaforge/envs/uncertainty-estimates/lib/python3.9/site-packages/torchvision/io/image.py:11: UserWarning: Failed to load image Python extension: \n",
      "  warn(f\"Failed to load image Python extension: {e}\")\n",
      "/Users/vinay/mambaforge/envs/uncertainty-estimates/lib/python3.9/site-packages/torchvision/io/image.py:11: UserWarning: Failed to load image Python extension: \n",
      "  warn(f\"Failed to load image Python extension: {e}\")\n",
      "/Users/vinay/mambaforge/envs/uncertainty-estimates/lib/python3.9/site-packages/torchvision/io/image.py:11: UserWarning: Failed to load image Python extension: \n",
      "  warn(f\"Failed to load image Python extension: {e}\")\n",
      "/Users/vinay/mambaforge/envs/uncertainty-estimates/lib/python3.9/site-packages/torchvision/io/image.py:11: UserWarning: Failed to load image Python extension: \n",
      "  warn(f\"Failed to load image Python extension: {e}\")\n",
      "100%|█████████████████████████████████████████| 100/100 [00:27<00:00,  3.61it/s]\n"
     ]
    }
   ],
   "source": [
    "resnet18_wosn_testmnist_entropies = entropy(get_logits(eval_model.model,mnist_test))"
   ]
  },
  {
   "cell_type": "markdown",
   "id": "c94adeca",
   "metadata": {},
   "source": [
    "## See if we can distinguish using entropy distributions alone."
   ]
  },
  {
   "cell_type": "code",
   "execution_count": 58,
   "id": "e7f92458",
   "metadata": {},
   "outputs": [],
   "source": [
    "import seaborn as sns"
   ]
  },
  {
   "cell_type": "code",
   "execution_count": 65,
   "id": "1051ca5f",
   "metadata": {},
   "outputs": [],
   "source": [
    "resnet18_wosn_testmnist_entropies = resnet18_wosn_testmnist_entropies.numpy()\n",
    "resnet18_wosn_fmnist_entropies = resnet18_wosn_fmnist_entropies.numpy()\n",
    "resnet18_wosn_ambimnist_entropies = resnet18_wosn_ambimnist_entropies.numpy()"
   ]
  },
  {
   "cell_type": "code",
   "execution_count": 70,
   "id": "6cd9783a",
   "metadata": {},
   "outputs": [
    {
     "data": {
      "text/plain": [
       "(4.1350827e-08, 1.3168385, 0.0119054215)"
      ]
     },
     "execution_count": 70,
     "metadata": {},
     "output_type": "execute_result"
    }
   ],
   "source": [
    "resnet18_wosn_testmnist_entropies.min(),resnet18_wosn_testmnist_entropies.max(),resnet18_wosn_testmnist_entropies.mean()"
   ]
  },
  {
   "cell_type": "code",
   "execution_count": 72,
   "id": "f730cd77",
   "metadata": {},
   "outputs": [
    {
     "data": {
      "text/plain": [
       "(1.2788486e-06, 1.6961727, 0.25098452)"
      ]
     },
     "execution_count": 72,
     "metadata": {},
     "output_type": "execute_result"
    }
   ],
   "source": [
    "resnet18_wosn_ambimnist_entropies.min(),resnet18_wosn_ambimnist_entropies.max(),resnet18_wosn_ambimnist_entropies.mean()"
   ]
  },
  {
   "cell_type": "code",
   "execution_count": 74,
   "id": "b1b6aeea",
   "metadata": {},
   "outputs": [
    {
     "data": {
      "text/plain": [
       "(3.3525566e-08, 2.0225267, 0.5061416)"
      ]
     },
     "execution_count": 74,
     "metadata": {},
     "output_type": "execute_result"
    }
   ],
   "source": [
    "resnet18_wosn_fmnist_entropies.min(),resnet18_wosn_fmnist_entropies.max(),resnet18_wosn_fmnist_entropies.mean()"
   ]
  },
  {
   "cell_type": "code",
   "execution_count": 80,
   "id": "d9a7f1ff",
   "metadata": {},
   "outputs": [],
   "source": [
    "pred_data_class = ['test_mnist']*len(resnet18_wosn_testmnist_entropies)+['ambiguous_mnist']*len(resnet18_wosn_ambimnist_entropies)+['fmnist']*len(resnet18_wosn_fmnist_entropies)"
   ]
  },
  {
   "cell_type": "code",
   "execution_count": 85,
   "id": "6ac630b3",
   "metadata": {},
   "outputs": [],
   "source": [
    "dset = np.concatenate([resnet18_wosn_testmnist_entropies,resnet18_wosn_ambimnist_entropies,resnet18_wosn_fmnist_entropies])"
   ]
  },
  {
   "cell_type": "code",
   "execution_count": 88,
   "id": "a1818188",
   "metadata": {},
   "outputs": [],
   "source": [
    "data = pd.DataFrame({'hue':pred_data_class,'entropy':dset})\n",
    "\n"
   ]
  },
  {
   "cell_type": "code",
   "execution_count": 92,
   "id": "c296df11",
   "metadata": {},
   "outputs": [
    {
     "data": {
      "text/plain": [
       "<seaborn.axisgrid.FacetGrid at 0x13018ad00>"
      ]
     },
     "execution_count": 92,
     "metadata": {},
     "output_type": "execute_result"
    },
    {
     "data": {
      "image/png": "[encoded data removed]",
      "text/plain": [
       "<Figure size 1024.25x360 with 1 Axes>"
      ]
     },
     "metadata": {
      "needs_background": "light"
     },
     "output_type": "display_data"
    }
   ],
   "source": [
    "sns.displot(data,hue='hue',x='entropy',kind = 'kde', fill=True,\n",
    "            palette=sns.color_palette('bright')[:3], height=5, aspect=2.5)"
   ]
  },
  {
   "cell_type": "code",
   "execution_count": 93,
   "id": "02cf8b7f",
   "metadata": {},
   "outputs": [
    {
     "data": {
      "text/plain": [
       "<seaborn.axisgrid.FacetGrid at 0x13024cbe0>"
      ]
     },
     "execution_count": 93,
     "metadata": {},
     "output_type": "execute_result"
    },
    {
     "data": {
      "image/png": "[encoded data removed]",
      "text/plain": [
       "<Figure size 1024.25x360 with 1 Axes>"
      ]
     },
     "metadata": {
      "needs_background": "light"
     },
     "output_type": "display_data"
    }
   ],
   "source": [
    "sns.displot(data=data, x=\"entropy\", hue=\"hue\", multiple=\"stack\",height=5, aspect=2.5)"
   ]
  },
  {
   "cell_type": "markdown",
   "id": "a282d4b3",
   "metadata": {},
   "source": [
    "Great deal of overlap. Not good at all"
   ]
  },
  {
   "cell_type": "markdown",
   "id": "3cb1fa4c",
   "metadata": {},
   "source": [
    "`Note`: **The transition from the final layer to logits seems not to preserve any sort of `input-distribution awareness`,but this information is still latent in the distribution of the lastlayer, which is remarkable. Let's verify this.**"
   ]
  },
  {
   "cell_type": "code",
   "execution_count": null,
   "id": "9d6155a9",
   "metadata": {},
   "outputs": [],
   "source": []
  },
  {
   "cell_type": "code",
   "execution_count": 101,
   "id": "d01f589f",
   "metadata": {},
   "outputs": [
    {
     "name": "stdout",
     "output_type": "stream",
     "text": [
      "num_workers:4\n"
     ]
    },
    {
     "name": "stderr",
     "output_type": "stream",
     "text": [
      "  0%|                                                   | 0/225 [00:00<?, ?it/s]/Users/vinay/mambaforge/envs/uncertainty-estimates/lib/python3.9/site-packages/torchvision/io/image.py:11: UserWarning: Failed to load image Python extension: \n",
      "  warn(f\"Failed to load image Python extension: {e}\")\n",
      "/Users/vinay/mambaforge/envs/uncertainty-estimates/lib/python3.9/site-packages/torchvision/io/image.py:11: UserWarning: Failed to load image Python extension: \n",
      "  warn(f\"Failed to load image Python extension: {e}\")\n",
      "/Users/vinay/mambaforge/envs/uncertainty-estimates/lib/python3.9/site-packages/torchvision/io/image.py:11: UserWarning: Failed to load image Python extension: \n",
      "  warn(f\"Failed to load image Python extension: {e}\")\n",
      "/Users/vinay/mambaforge/envs/uncertainty-estimates/lib/python3.9/site-packages/torchvision/io/image.py:11: UserWarning: Failed to load image Python extension: \n",
      "  warn(f\"Failed to load image Python extension: {e}\")\n",
      "100%|█████████████████████████████████████████| 225/225 [02:00<00:00,  1.87it/s]\n"
     ]
    }
   ],
   "source": [
    "#fit a gaussion model based off train-distribution\n",
    "mnist_train = get_loaders(data_root,'train',200,data_type='mnist')\n",
    "resnet18_gmm_model_mnist = train_gmm(eval_model.model, 512, mnist_train, 'cpu')"
   ]
  },
  {
   "cell_type": "code",
   "execution_count": 102,
   "id": "c56f4abe",
   "metadata": {},
   "outputs": [
    {
     "name": "stderr",
     "output_type": "stream",
     "text": [
      "  0%|                                                   | 0/100 [00:00<?, ?it/s]/Users/vinay/mambaforge/envs/uncertainty-estimates/lib/python3.9/site-packages/torchvision/io/image.py:11: UserWarning: Failed to load image Python extension: \n",
      "  warn(f\"Failed to load image Python extension: {e}\")\n",
      "/Users/vinay/mambaforge/envs/uncertainty-estimates/lib/python3.9/site-packages/torchvision/io/image.py:11: UserWarning: Failed to load image Python extension: \n",
      "  warn(f\"Failed to load image Python extension: {e}\")\n",
      "/Users/vinay/mambaforge/envs/uncertainty-estimates/lib/python3.9/site-packages/torchvision/io/image.py:11: UserWarning: Failed to load image Python extension: \n",
      "  warn(f\"Failed to load image Python extension: {e}\")\n",
      "/Users/vinay/mambaforge/envs/uncertainty-estimates/lib/python3.9/site-packages/torchvision/io/image.py:11: UserWarning: Failed to load image Python extension: \n",
      "  warn(f\"Failed to load image Python extension: {e}\")\n",
      "100%|█████████████████████████████████████████| 100/100 [00:28<00:00,  3.47it/s]\n"
     ]
    }
   ],
   "source": [
    "\n",
    "resnet18_gmm_model_mnisttest_densities = logsumexp(\n",
    "    get_gmm_logits(eval_model.model, resnet18_gmm_model_mnist, mnist_test, 'cpu')\n",
    ")"
   ]
  },
  {
   "cell_type": "code",
   "execution_count": null,
   "id": "a637b242",
   "metadata": {},
   "outputs": [],
   "source": []
  },
  {
   "cell_type": "code",
   "execution_count": 103,
   "id": "84dfce79",
   "metadata": {},
   "outputs": [
    {
     "name": "stderr",
     "output_type": "stream",
     "text": [
      "  0%|                                                   | 0/225 [00:00<?, ?it/s]/Users/vinay/mambaforge/envs/uncertainty-estimates/lib/python3.9/site-packages/torchvision/io/image.py:11: UserWarning: Failed to load image Python extension: \n",
      "  warn(f\"Failed to load image Python extension: {e}\")\n",
      "/Users/vinay/mambaforge/envs/uncertainty-estimates/lib/python3.9/site-packages/torchvision/io/image.py:11: UserWarning: Failed to load image Python extension: \n",
      "  warn(f\"Failed to load image Python extension: {e}\")\n",
      "/Users/vinay/mambaforge/envs/uncertainty-estimates/lib/python3.9/site-packages/torchvision/io/image.py:11: UserWarning: Failed to load image Python extension: \n",
      "  warn(f\"Failed to load image Python extension: {e}\")\n",
      "/Users/vinay/mambaforge/envs/uncertainty-estimates/lib/python3.9/site-packages/torchvision/io/image.py:11: UserWarning: Failed to load image Python extension: \n",
      "  warn(f\"Failed to load image Python extension: {e}\")\n",
      "100%|█████████████████████████████████████████| 225/225 [02:00<00:00,  1.87it/s]\n"
     ]
    }
   ],
   "source": [
    "\n",
    "resnet18_gmm_model_fmnisttest_densities = logsumexp(\n",
    "    get_gmm_logits(eval_model.model, resnet18_gmm_model_mnist, fmnist, 'cpu')\n",
    ")\n",
    "\n",
    "\n"
   ]
  },
  {
   "cell_type": "code",
   "execution_count": 104,
   "id": "1dd427b4",
   "metadata": {},
   "outputs": [
    {
     "name": "stderr",
     "output_type": "stream",
     "text": [
      "100%|█████████████████████████████████████████| 300/300 [02:40<00:00,  1.86it/s]\n"
     ]
    }
   ],
   "source": [
    "\n",
    "resnet18_gmm_model_ambiguoustest_densities = logsumexp(\n",
    "    get_gmm_logits(eval_model.model, resnet18_gmm_model_mnist, ambmnist, 'cpu')\n",
    ")\n",
    "\n",
    "\n",
    "\n",
    "\n",
    "\n",
    "\n",
    "\n",
    "\n",
    "\n",
    "\n",
    "\n",
    "\n",
    "\n"
   ]
  },
  {
   "cell_type": "code",
   "execution_count": 105,
   "id": "dca27666",
   "metadata": {},
   "outputs": [
    {
     "data": {
      "text/plain": [
       "<seaborn.axisgrid.FacetGrid at 0x175e68cd0>"
      ]
     },
     "execution_count": 105,
     "metadata": {},
     "output_type": "execute_result"
    },
    {
     "data": {
      "image/png": "[encoded data removed]",
      "text/plain": [
       "<Figure size 1024.25x360 with 1 Axes>"
      ]
     },
     "metadata": {
      "needs_background": "light"
     },
     "output_type": "display_data"
    }
   ],
   "source": [
    "pred_data_class_gmm = ['test_mnist']*len(resnet18_gmm_model_mnisttest_densities)+\\\n",
    "                   ['ambiguous_mnist']*len(resnet18_gmm_model_ambiguoustest_densities)+\\\n",
    "                       ['fmnist']*len(resnet18_gmm_model_fmnisttest_densities)\n",
    "\n",
    "\n",
    "dset_gmm = np.concatenate([resnet18_gmm_model_mnisttest_densities,resnet18_gmm_model_ambiguoustest_densities,resnet18_gmm_model_fmnisttest_densities])\n",
    "\n",
    "data_gmm = pd.DataFrame({'hue':pred_data_class_gmm,'density':dset_gmm})\n",
    "\n",
    "sns.displot(data=data_gmm, x=\"density\", hue=\"hue\", multiple=\"stack\",height=5, aspect=2.5)\n",
    "\n"
   ]
  },
  {
   "cell_type": "markdown",
   "id": "394e07c6",
   "metadata": {},
   "source": [
    "`OBSERVATION`:\n",
    "\n",
    "We can distinguish between out-of-sample and insample pretty-well using this. The hypothesis is once we do this we can use `softmax` entropy to further disentangle between `insample but ambiguous` vs `trustworthy predictions`, thus a complete characterization. Moreover this pipeline can be made much more accurate by using network architectures that doesn't loose global characteristics - you can imagine avg pooling might be a bad idea,in other words we want outputs to be more sensitive to inputs.(to detect ood samples) But this might also be antithesis to generalization,this work offers a pragmatic solution.\n",
    "\n",
    "- You can use resnet like architecture which in most cases wouldn't sacrifice accuracy but also preserve some sensitivity. \n",
    "- Also try adding `spectral norm` if this doesn't also effect you have got a robust and accurate pipeline to detect ood and/or ambiguous samples.\n"
   ]
  },
  {
   "cell_type": "code",
   "execution_count": null,
   "id": "5073c498",
   "metadata": {},
   "outputs": [],
   "source": []
  }
 ],
 "metadata": {
  "kernelspec": {
   "display_name": "Python 3 (ipykernel)",
   "language": "python",
   "name": "python3"
  },
  "language_info": {
   "codemirror_mode": {
    "name": "ipython",
    "version": 3
   },
   "file_extension": ".py",
   "mimetype": "text/x-python",
   "name": "python",
   "nbconvert_exporter": "python",
   "pygments_lexer": "ipython3",
   "version": "3.9.9"
  }
 },
 "nbformat": 4,
 "nbformat_minor": 5
}
